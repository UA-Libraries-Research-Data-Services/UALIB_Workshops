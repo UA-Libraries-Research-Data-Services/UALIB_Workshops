{
 "cells": [
  {
   "cell_type": "markdown",
   "metadata": {},
   "source": [
    "# Introduction to Python\n",
    "\n",
    "V.F. Scalfani, University of Alabama Libraries\n",
    "\n",
    "Fall 2024"
   ]
  },
  {
   "cell_type": "markdown",
   "metadata": {},
   "source": [
    "## Anticipated Length of Workshop\n",
    "\n",
    "1 hour"
   ]
  },
  {
   "cell_type": "markdown",
   "metadata": {},
   "source": [
    "## Notes and Additional Resources\n",
    "\n",
    "Code in the notebook is MIT licensed. You can find a copy of the license in the [UALIB_Workshops Repository](https://github.com/UA-Libraries-Research-Data-Services/UALIB_Workshops/blob/master/LICENSE).\n",
    "\n",
    "Content in this workshop was adapted from previously offered Python workshops from UA Libraries: https://github.com/UA-Libraries-Research-Data-Services/UALIB_Workshops\n",
    "\n",
    "In addition to the workshop content, we recommend starting with the following Python resources to learn more:\n",
    "\n",
    "1. https://github.com/jakevdp/WhirlwindTourOfPython\n",
    "\n",
    "2. http://swcarpentry.github.io/python-novice-gapminder/\n",
    "\n",
    "3. https://docs.python.org/3/tutorial/index.html\n",
    "\n",
    "4. Python Crash Course: a hands-on, project-based introduction to programming, by Eric Matthes: [Scout Link](http://libdata.lib.ua.edu/login?url=https://search.ebscohost.com/login.aspx?direct=true&db=cat00456a&AN=ua.8611906&site=eds-live&scope=site)\n"
   ]
  },
  {
   "cell_type": "markdown",
   "metadata": {},
   "source": [
    "## What is the purpose of this workshop?\n",
    "\n",
    "Here is what we will cover:\n",
    "\n",
    "1. Setting up Python\n",
    "2. Getting help in Python\n",
    "3. Python syntax and variables\n",
    "4. Indexing and accessing data\n",
    "5. Functions\n",
    "6. Conditional statements\n",
    "7. Loops\n",
    "8. Data I/O\n",
    "9. Very brief intro to data analysis and plotting"
   ]
  },
  {
   "cell_type": "markdown",
   "metadata": {},
   "source": [
    "## 1. Setup\n",
    "\n",
    "1. Go to https://www.python.org/\n",
    "2. Download the latest python for Windows\n",
    "3. Run the .exe python file, be sure to select \"Add python.exe to PATH\", then Install Now\n",
    "4. Open VS Code and install the Microsoft Python and Jupyter extensions via the Extensions Tab.\n",
    "5. Open a VS Code terminal (View > Terminal) and type `pip install matplotlib`. This will install the matplotlib libraries (a python software package: https://matplotlib.org/) we will use later in the workshop.\n",
    "\n",
    "**Note: Installing python libraries system wide via pip is generally not the best approach, but it works for our intorductory lesson today. Moreover, the installation is temporary on the library computers.**\n",
    "\n",
    "As you develop Python code and your skills, it's often necassary or convenient to have different Python environments for different projects. There are several good solutions available to manage Python dependencies. Our preferred method is to use the conda package manager (e.g., via miniforge). See our previous workshop on \"Introduction to Conda\" for more information: https://github.com/UA-Libraries-Research-Data-Services/UALIB_Workshops. Another option is Python virtual environments: https://docs.python.org/3/library/venv.html"
   ]
  },
  {
   "cell_type": "markdown",
   "metadata": {},
   "source": [
    "### Check Installation\n",
    "\n",
    "Note that this file is an interactive Jupyter notebook; we can run our code within this file!\n",
    "\n",
    "See: https://jupyter.org/"
   ]
  },
  {
   "cell_type": "code",
   "execution_count": null,
   "metadata": {},
   "outputs": [],
   "source": [
    "# First let's make sure everything is working with Python\n",
    "# Note that starting a line with `#` is a comment in Python\n",
    "import sys\n",
    "print(sys.version)"
   ]
  },
  {
   "cell_type": "code",
   "execution_count": null,
   "metadata": {},
   "outputs": [],
   "source": [
    "print(\"Hello World!\")"
   ]
  },
  {
   "cell_type": "markdown",
   "metadata": {},
   "source": [
    "## 2. Getting help in Python"
   ]
  },
  {
   "cell_type": "markdown",
   "metadata": {},
   "source": [
    "### Web Documentation\n",
    "\n",
    "We recommend starting out with using the online web-based documentation for Python: https://docs.python.org/3/. See also the Library Reference section for built-in Python functions: https://docs.python.org/3/library/index.html"
   ]
  },
  {
   "cell_type": "markdown",
   "metadata": {},
   "source": [
    "### help() function \n",
    "\n",
    "For additional tips, see: https://jakevdp.github.io/PythonDataScienceHandbook/01.01-help-and-documentation.html"
   ]
  },
  {
   "cell_type": "code",
   "execution_count": null,
   "metadata": {},
   "outputs": [],
   "source": [
    "# If you know the name of the function, use the help() function \n",
    "# to display the docstring\n",
    "help(sorted)"
   ]
  },
  {
   "cell_type": "code",
   "execution_count": null,
   "metadata": {},
   "outputs": [],
   "source": [
    "# Help also works on variables (we will talk more about that later!)\n",
    "a = [6,3,0,5]\n",
    "help(a)"
   ]
  },
  {
   "cell_type": "markdown",
   "metadata": {},
   "source": [
    "### dir() function"
   ]
  },
  {
   "cell_type": "code",
   "execution_count": null,
   "metadata": {},
   "outputs": [],
   "source": [
    "# The Python dir() function is useful for exploring modules\n",
    "# https://stackoverflow.com/questions/139180/how-to-list-all-functions-in-a-python-module\n",
    "# this prints a list of available functions and variables\n",
    "\n",
    "# example with time module\n",
    "import time  # In python, you will often need to import libraries to use them.\n",
    "dir(time)"
   ]
  },
  {
   "cell_type": "code",
   "execution_count": null,
   "metadata": {},
   "outputs": [],
   "source": [
    "# now we can use help() to get more information about a particular function or method\n",
    "help(time.sleep)"
   ]
  },
  {
   "cell_type": "code",
   "execution_count": null,
   "metadata": {},
   "outputs": [],
   "source": [
    "# Try it\n",
    "time.sleep(5)"
   ]
  },
  {
   "cell_type": "markdown",
   "metadata": {},
   "source": [
    "## 3. Python syntax and variables \n",
    "\n",
    "Some content in this section adapted and inspired from: https://github.com/jakevdp/WhirlwindTourOfPython"
   ]
  },
  {
   "cell_type": "markdown",
   "metadata": {},
   "source": [
    "### Simple Variables"
   ]
  },
  {
   "cell_type": "code",
   "execution_count": null,
   "metadata": {},
   "outputs": [],
   "source": [
    "# An integer\n",
    "a = 5\n",
    "print(a)"
   ]
  },
  {
   "cell_type": "code",
   "execution_count": null,
   "metadata": {},
   "outputs": [],
   "source": [
    "type(a)"
   ]
  },
  {
   "cell_type": "code",
   "execution_count": null,
   "metadata": {},
   "outputs": [],
   "source": [
    "# Floating points\n",
    "b = 1.825\n",
    "print(b)"
   ]
  },
  {
   "cell_type": "code",
   "execution_count": null,
   "metadata": {},
   "outputs": [],
   "source": [
    "type(b)"
   ]
  },
  {
   "cell_type": "code",
   "execution_count": null,
   "metadata": {},
   "outputs": [],
   "source": [
    "# a string\n",
    "s1 = \"Thanks for coming to my workshop!\"\n",
    "print(s1)"
   ]
  },
  {
   "cell_type": "code",
   "execution_count": null,
   "metadata": {},
   "outputs": [],
   "source": [
    "type(s1)"
   ]
  },
  {
   "cell_type": "code",
   "execution_count": null,
   "metadata": {},
   "outputs": [],
   "source": [
    "s2 = 'single quotes work too'\n",
    "print(s2)"
   ]
  },
  {
   "cell_type": "code",
   "execution_count": null,
   "metadata": {},
   "outputs": [],
   "source": [
    "# Sometimes it is necassary to use double quotes\n",
    "s3 = \"Like when there is a single quote ' within a string\"\n",
    "print(s3)"
   ]
  },
  {
   "cell_type": "markdown",
   "metadata": {},
   "source": [
    "### Compound Variables\n",
    "\n",
    "Two common compound variables are lists and dictionaries. For others, see: https://docs.python.org/3/library/index.html\n"
   ]
  },
  {
   "cell_type": "code",
   "execution_count": null,
   "metadata": {},
   "outputs": [],
   "source": [
    "# create a list with numbers\n",
    "nums = [1, 3, 7, 11]\n",
    "print(nums)"
   ]
  },
  {
   "cell_type": "code",
   "execution_count": null,
   "metadata": {},
   "outputs": [],
   "source": [
    "type(nums)"
   ]
  },
  {
   "cell_type": "code",
   "execution_count": null,
   "metadata": {},
   "outputs": [],
   "source": [
    "# create a list with strings\n",
    "flowers = [\"rose\", \"tulip\", \"carnation\", \"marigold\"]\n",
    "print(flowers)"
   ]
  },
  {
   "cell_type": "code",
   "execution_count": null,
   "metadata": {},
   "outputs": [],
   "source": [
    "# Lists can mix types\n",
    "mixed = [1, \"rose\", 3, \"tulip\"]\n",
    "print(mixed)"
   ]
  },
  {
   "cell_type": "code",
   "execution_count": null,
   "metadata": {},
   "outputs": [],
   "source": [
    "# We can even do lists within lists\n",
    "flowers_list = [[1, 3, 7, 11],[\"rose\", \"tulip\", \"carnation\", \"marigold\"]]\n",
    "print(flowers_list)"
   ]
  },
  {
   "cell_type": "code",
   "execution_count": null,
   "metadata": {},
   "outputs": [],
   "source": [
    "# We often prefer dictionaries over lists\n",
    "# As it can be easier to keep track of variables and idxs\n",
    "# note that the dictionary keys must be unique\n",
    "\n",
    "flowers_dict = {\n",
    "    \"rose\": 1,\n",
    "    \"tulip\": 3,\n",
    "    \"carnation\": 7,\n",
    "    \"marigold\": 11\n",
    "}"
   ]
  },
  {
   "cell_type": "code",
   "execution_count": null,
   "metadata": {},
   "outputs": [],
   "source": [
    "flowers_dict"
   ]
  },
  {
   "cell_type": "code",
   "execution_count": null,
   "metadata": {},
   "outputs": [],
   "source": [
    "# Or something like this works well too\n",
    "# If you want more defined key-value pairs\n",
    "# top level keys should be unique\n",
    "\n",
    "flowers_entries_dict = {'Entry 1': {'type': 'rose', 'num': 1},\n",
    " 'Entry 2': {'type': 'tulip', 'num': 3},\n",
    " 'Entry 3': {'type': 'carnation', 'num': 7},\n",
    " 'Entry 4': {'type': 'marigold', 'num': 11}}\n",
    "\n",
    "flowers_entries_dict"
   ]
  },
  {
   "cell_type": "markdown",
   "metadata": {},
   "source": [
    "## 4. Indexing and accessing data"
   ]
  },
  {
   "cell_type": "code",
   "execution_count": null,
   "metadata": {},
   "outputs": [],
   "source": [
    "# Python indexing starts at 0 from left to right. \n",
    "# When indexing from right to left, the indexing starts at -1.\n",
    "print(nums)\n",
    "print(nums[0])\n",
    "print(nums[-1])\n",
    "print(nums[0:2]) # a slice"
   ]
  },
  {
   "cell_type": "code",
   "execution_count": null,
   "metadata": {},
   "outputs": [],
   "source": [
    "# When indexing a lists of lists\n",
    "# Need to go 2 or more levels\n",
    "print(flowers_list)\n",
    "print(flowers_list[0])\n",
    "print(flowers_list[1])\n",
    "print(flowers_list[0][0])\n",
    "print(flowers_list[1][3])"
   ]
  },
  {
   "cell_type": "code",
   "execution_count": null,
   "metadata": {},
   "outputs": [],
   "source": [
    "# Access dictionary data using keys\n",
    "print(flowers_dict)\n",
    "print(flowers_dict[\"tulip\"])"
   ]
  },
  {
   "cell_type": "code",
   "execution_count": null,
   "metadata": {},
   "outputs": [],
   "source": [
    "# We could also cast the dictionary into a list\n",
    "print(list(flowers_dict.keys())[1])\n",
    "print(list(flowers_dict.values())[1])"
   ]
  },
  {
   "cell_type": "code",
   "execution_count": null,
   "metadata": {},
   "outputs": [],
   "source": [
    "# Example with 2 key-value pairs\n",
    "print(flowers_entries_dict)\n",
    "print(flowers_entries_dict[\"Entry 3\"])\n",
    "print(flowers_entries_dict[\"Entry 3\"][\"type\"])\n",
    "print(flowers_entries_dict[\"Entry 3\"][\"num\"])"
   ]
  },
  {
   "cell_type": "code",
   "execution_count": null,
   "metadata": {},
   "outputs": [],
   "source": [
    "print(list(flowers_entries_dict.keys())[2])\n",
    "print(list(flowers_entries_dict.values())[2])\n",
    "print(list(flowers_entries_dict.values())[2][\"type\"])\n",
    "print(list(flowers_entries_dict.values())[2][\"num\"])"
   ]
  },
  {
   "cell_type": "markdown",
   "metadata": {},
   "source": [
    "## 5. Functions\n",
    "\n",
    "https://nbviewer.org/github/jakevdp/WhirlwindTourOfPython/blob/master/08-Defining-Functions.ipynb"
   ]
  },
  {
   "cell_type": "markdown",
   "metadata": {},
   "source": [
    "### Using Existing Functions\n",
    "\n"
   ]
  },
  {
   "cell_type": "code",
   "execution_count": null,
   "metadata": {},
   "outputs": [],
   "source": [
    "# functions are called with parentheses\n",
    "print(\"Hello World!\")"
   ]
  },
  {
   "cell_type": "code",
   "execution_count": null,
   "metadata": {},
   "outputs": [],
   "source": [
    "# functions can be applied directly to objects: \"methods\"\n",
    "myList = [23, 1, 45, 9]\n",
    "myList.reverse() # () evaluates reverse function method with no arguments\n",
    "print(myList)"
   ]
  },
  {
   "cell_type": "code",
   "execution_count": null,
   "metadata": {},
   "outputs": [],
   "source": [
    "# use a function from within a module\n",
    "import math\n",
    "math.sqrt(9)"
   ]
  },
  {
   "cell_type": "code",
   "execution_count": null,
   "metadata": {},
   "outputs": [],
   "source": [
    "# or\n",
    "from math import sqrt\n",
    "sqrt(9)"
   ]
  },
  {
   "cell_type": "markdown",
   "metadata": {},
   "source": [
    "### Define Custom Functions\n",
    "\n",
    "Python functions are defined using the `def`` statement. A general Python syntax format for a function looks like this:\n",
    "\n",
    "```python\n",
    "\n",
    "def function_name():\n",
    "    do something\n",
    "\n",
    "```\n",
    "or\n",
    "\n",
    "```python\n",
    "\n",
    "def function_name(param1, parmam2, ...):\n",
    "    do something\n",
    "```"
   ]
  },
  {
   "cell_type": "code",
   "execution_count": null,
   "metadata": {},
   "outputs": [],
   "source": [
    "# functions do not need inputs\n",
    "def print_flowers():\n",
    "    \"\"\" Prints a list of common flowers\n",
    "        There are no inputs.\n",
    "    \"\"\"\n",
    "    print(\"rose\")\n",
    "    print(\"tulip\")\n",
    "    print(\"carnation\")\n",
    "    print(\"marigold\")"
   ]
  },
  {
   "cell_type": "code",
   "execution_count": null,
   "metadata": {},
   "outputs": [],
   "source": [
    "# call the function\n",
    "print_flowers()"
   ]
  },
  {
   "cell_type": "code",
   "execution_count": null,
   "metadata": {},
   "outputs": [],
   "source": [
    "# Use return to output a variable\n",
    "def get_name(item):\n",
    "    \"\"\" returns only name of an item before a hyphen\"\"\"\n",
    "    split_item = item.split('-')\n",
    "    return split_item[0]"
   ]
  },
  {
   "cell_type": "code",
   "execution_count": null,
   "metadata": {},
   "outputs": [],
   "source": [
    "my_item = 'rose-12345'\n",
    "get_name(my_item)"
   ]
  },
  {
   "cell_type": "markdown",
   "metadata": {},
   "source": [
    "## 6. Conditional statements\n",
    "\n",
    "https://nbviewer.org/github/jakevdp/WhirlwindTourOfPython/blob/master/07-Control-Flow-Statements.ipynb\n",
    "\n",
    "A simplified general Python syntax for conditional statements is as follows:\n",
    "\n",
    "```\n",
    "if expression1:\n",
    "  do something1\n",
    "elif expression2:\n",
    "  do something2\n",
    "else:\n",
    "  do something3\n",
    "\n",
    "```"
   ]
  },
  {
   "cell_type": "markdown",
   "metadata": {},
   "source": [
    "### if\n",
    "\n",
    "\n",
    "Use an `if` statement to make a choice and determine the direction of code execution. Start the line of code with `if` followed by the condition, then end with a colon, `:`. Conditional statements are often tested with comparison operators (e.g., >) or sequence operations (e.g., x in s):\n",
    "\n",
    "https://docs.python.org/3/library/stdtypes.html#boolean-operations-and-or-not\n",
    "\n",
    "https://docs.python.org/3/library/stdtypes.html#sequence-types-list-tuple-range"
   ]
  },
  {
   "cell_type": "code",
   "execution_count": null,
   "metadata": {},
   "outputs": [],
   "source": [
    "# if statement with condition met\n",
    "flower = 'hydrangea'\n",
    "\n",
    "# check length of the string\n",
    "if len(flower) > 5:\n",
    "  print(flower, 'has more than 5 characters')"
   ]
  },
  {
   "cell_type": "code",
   "execution_count": null,
   "metadata": {},
   "outputs": [],
   "source": [
    "# if statement with condition not met\n",
    "flower = 'lily'\n",
    "\n",
    "if len(flower) > 5:\n",
    "  print(flower, 'has more than 5 characters')"
   ]
  },
  {
   "cell_type": "markdown",
   "metadata": {},
   "source": [
    "### else\n",
    "\n",
    "In the above example, the condition is not met, so nothing happens, we can add an else condition to create an alternative code execution."
   ]
  },
  {
   "cell_type": "code",
   "execution_count": null,
   "metadata": {},
   "outputs": [],
   "source": [
    "# add an else\n",
    "flower = 'lily'\n",
    "\n",
    "if len(flower) > 5:\n",
    "  print(flower, 'has more than 5 characters')\n",
    "else:\n",
    "  print(flower, 'has less than 5 characters')"
   ]
  },
  {
   "cell_type": "markdown",
   "metadata": {},
   "source": [
    "### elif\n",
    "\n",
    "Additional conditional tests can be added before else with the elif statement (else if)."
   ]
  },
  {
   "cell_type": "code",
   "execution_count": null,
   "metadata": {},
   "outputs": [],
   "source": [
    "# for example, what if we want to test len(flower) == 5\n",
    "flower = 'tulip'\n",
    "\n",
    "if len(flower) > 5:\n",
    "  print(flower, 'has more than 5 characters')\n",
    "elif len(flower) == 5:\n",
    "   print(flower, 'has 5 characters') \n",
    "else:\n",
    "  print(flower, 'has less than 5 characters')"
   ]
  },
  {
   "cell_type": "code",
   "execution_count": null,
   "metadata": {},
   "outputs": [],
   "source": [
    "# caution, the if-elif-else sequence stops when the first one is true\n",
    "flower = 'tulip'\n",
    "\n",
    "if len(flower) > 5:\n",
    "  print(flower, 'has more than 5 characters')\n",
    "elif len(flower) == 5:\n",
    "   print(flower, 'has 5 characters')\n",
    "elif 'u' in flower:\n",
    "   print(flower, 'contains the character u') \n",
    "else:\n",
    "  print(flower, 'has less than 5 characters')"
   ]
  },
  {
   "cell_type": "code",
   "execution_count": null,
   "metadata": {},
   "outputs": [],
   "source": [
    "# One solution with a boolean\n",
    "\n",
    "flower = 'tulip'\n",
    "\n",
    "if len(flower) > 5:\n",
    "  print(flower, 'has more than 5 characters')\n",
    "elif len(flower) == 5 and 'u' in flower:\n",
    "   print(flower, 'has 5 characters and contains the character u')\n",
    "else:\n",
    "  print(flower, 'has less than 5 characters')"
   ]
  },
  {
   "cell_type": "code",
   "execution_count": null,
   "metadata": {},
   "outputs": [],
   "source": [
    "# Alternative with all ifs\n",
    "flower = 'tulip'\n",
    "\n",
    "if len(flower) > 5:\n",
    "  print(flower, 'has more than 5 characters')\n",
    "if 'u' in flower:\n",
    "   print(flower, 'contains the character u')\n",
    "if len(flower) == 5:\n",
    "   print(flower, 'has 5 characters')  \n",
    "if len(flower) < 5:\n",
    "  print(flower, 'has less than 5 characters')"
   ]
  },
  {
   "cell_type": "markdown",
   "metadata": {},
   "source": [
    "## 7. Loops\n",
    "\n",
    "https://github.com/jakevdp/WhirlwindTourOfPython/blob/master/07-Control-Flow-Statements.ipynb"
   ]
  },
  {
   "cell_type": "markdown",
   "metadata": {},
   "source": [
    "If we wanted to print a series of statements, we could do this one at a time, but it is inefficient:"
   ]
  },
  {
   "cell_type": "code",
   "execution_count": null,
   "metadata": {},
   "outputs": [],
   "source": [
    "print(\"rose\")\n",
    "print(\"tulip\")\n",
    "print(\"carnation\")\n",
    "print(\"marigold\")"
   ]
  },
  {
   "cell_type": "markdown",
   "metadata": {},
   "source": [
    "`for` loops allow repeated execution of code on a known collection of values such as a range of numbers or a list. A general syntax example is as follows:\n",
    "\n",
    "```python\n",
    "for item in items:\n",
    "  do something\n",
    "\n",
    "```\n",
    "\n",
    "`while` loops are another type of loop and are useful when you need to iterate for a specific condition and/or don't know the specific number of iterations.\n",
    "We will not cover these today.\n",
    "\n",
    "```python\n",
    "while condition:\n",
    "  do something\n",
    "\n",
    "```"
   ]
  },
  {
   "cell_type": "code",
   "execution_count": null,
   "metadata": {},
   "outputs": [],
   "source": [
    "flowers = [\"rose\", \"tulip\", \"carnation\", \"marigold\"]\n",
    "print(flowers)"
   ]
  },
  {
   "cell_type": "code",
   "execution_count": null,
   "metadata": {},
   "outputs": [],
   "source": [
    "# 1. Method one where we access list flowers directly\n",
    "for flower in flowers:\n",
    "    print(flower)"
   ]
  },
  {
   "cell_type": "code",
   "execution_count": null,
   "metadata": {},
   "outputs": [],
   "source": [
    "# 2. Method two, use a range to access idxs\n",
    "for idx in range(len(flowers)):\n",
    "    print(idx, flowers[idx])"
   ]
  },
  {
   "cell_type": "code",
   "execution_count": null,
   "metadata": {},
   "outputs": [],
   "source": [
    "# 3. Method 3, use enumerate\n",
    "for idx, flower in enumerate(flowers):\n",
    "    print(idx, flower)"
   ]
  },
  {
   "cell_type": "code",
   "execution_count": null,
   "metadata": {},
   "outputs": [],
   "source": [
    "# We can also loop through lists of lists, like this:\n",
    "flowers = [[\"rose\", 1], [\"tulip\", 5], [\"carnation\", 30], [\"marigold\", 50]]"
   ]
  },
  {
   "cell_type": "code",
   "execution_count": null,
   "metadata": {},
   "outputs": [],
   "source": [
    "# 1. Direct\n",
    "for flower, num in flowers:\n",
    "    print(flower, num)"
   ]
  },
  {
   "cell_type": "code",
   "execution_count": null,
   "metadata": {},
   "outputs": [],
   "source": [
    "# 2. range\n",
    "for idx in range(len(flowers)):\n",
    "    print(idx, flowers[idx][0], flowers[idx][1])"
   ]
  },
  {
   "cell_type": "code",
   "execution_count": null,
   "metadata": {},
   "outputs": [],
   "source": [
    "# 3. enumerate\n",
    "for idx, (flower, num) in enumerate(flowers):\n",
    "    print(idx, flower, num)"
   ]
  },
  {
   "cell_type": "code",
   "execution_count": null,
   "metadata": {},
   "outputs": [],
   "source": [
    "# It is sometimes necassary and useful to use more than one loop\n",
    "flowers = [[\"rose\", 1], [\"tulip\", 5], [\"carnation\", 30], [\"marigold\", 50]]\n",
    "\n",
    "for flower_data in flowers:\n",
    "    #print(flower_data)\n",
    "    for item in flower_data:\n",
    "        print(item)"
   ]
  },
  {
   "cell_type": "code",
   "execution_count": null,
   "metadata": {},
   "outputs": [],
   "source": [
    "# Let's look at how to loop through a dictionary:\n",
    "flowers_dict = {\n",
    "    \"rose\": 1,\n",
    "    \"tulip\": 3,\n",
    "    \"carnation\": 7,\n",
    "    \"marigold\": 11\n",
    "}"
   ]
  },
  {
   "cell_type": "code",
   "execution_count": null,
   "metadata": {},
   "outputs": [],
   "source": [
    "for key in flowers_dict.keys():\n",
    "    print(key)"
   ]
  },
  {
   "cell_type": "code",
   "execution_count": null,
   "metadata": {},
   "outputs": [],
   "source": [
    "for value in flowers_dict.values():\n",
    "    print(value)"
   ]
  },
  {
   "cell_type": "code",
   "execution_count": null,
   "metadata": {},
   "outputs": [],
   "source": [
    "# Both at same time\n",
    "for key,value in flowers_dict.items():\n",
    "    print(key, value)"
   ]
  },
  {
   "cell_type": "code",
   "execution_count": null,
   "metadata": {},
   "outputs": [],
   "source": [
    "# another example\n",
    "\n",
    "flowers_entries_dict = {'Entry 1': {'type': 'rose', 'num': 1},\n",
    " 'Entry 2': {'type': 'tulip', 'num': 3},\n",
    " 'Entry 3': {'type': 'carnation', 'num': 7},\n",
    " 'Entry 4': {'type': 'marigold', 'num': 11}}\n",
    "\n",
    "for key, value in flowers_entries_dict.items():\n",
    "    print(key, value)"
   ]
  },
  {
   "cell_type": "code",
   "execution_count": null,
   "metadata": {},
   "outputs": [],
   "source": [
    "# If you want to access value elements\n",
    "for key, value in flowers_entries_dict.items():\n",
    "    print(key, value['type'], value['num'])"
   ]
  },
  {
   "cell_type": "markdown",
   "metadata": {},
   "source": [
    "## 8. Data I/O"
   ]
  },
  {
   "cell_type": "markdown",
   "metadata": {},
   "source": [
    "### Loading Data\n",
    "\n",
    "Loading tabular data into python lists or dictionaries is very useful. We can use the built-in csv module: https://docs.python.org/3/library/csv.html"
   ]
  },
  {
   "cell_type": "markdown",
   "metadata": {},
   "source": [
    "We will use the Iris dataset from here: https://archive.ics.uci.edu/dataset/53/iris, which is licensed as CC-BY 4.0: https://creativecommons.org/licenses/by/4.0/legalcode\n",
    "\n",
    "Select Download, then extract the zip and copy the bezdekIris.data file in to the same directory as this notebook."
   ]
  },
  {
   "cell_type": "code",
   "execution_count": null,
   "metadata": {},
   "outputs": [],
   "source": [
    "# import the data\n",
    "import csv\n",
    "\n",
    "iris_data = []\n",
    "with open('bezdekIris.data', 'r') as infile:\n",
    "    reader = csv.reader(infile, delimiter=',')\n",
    "\n",
    "    for idx,row in enumerate(reader): # this let's us add an index or line number\n",
    "        if row: # append only non empty rows\n",
    "           # append to list, but add the word sample and an index\n",
    "           iris_data.append([\"Sample \" + str(idx+1)] + row)"
   ]
  },
  {
   "cell_type": "code",
   "execution_count": null,
   "metadata": {},
   "outputs": [],
   "source": [
    "iris_data[0:10]"
   ]
  },
  {
   "cell_type": "code",
   "execution_count": null,
   "metadata": {},
   "outputs": [],
   "source": [
    "# Alternatively let's use a dictionary\n",
    "# Attribute information is listed in iris.names file\n",
    "iris_data_dict = {}\n",
    "col_names = ['sepal length in cm', 'sepal width in cm', 'petal length in cm', 'petal width in cm', 'class']\n",
    "with open('bezdekIris.data', 'r') as infile:\n",
    "    reader = csv.DictReader(infile, delimiter=',', fieldnames=col_names)\n",
    "\n",
    "    for idx,row in enumerate(reader):\n",
    "        iris_data_dict[\"Sample \" + str(idx+1)] = row"
   ]
  },
  {
   "cell_type": "code",
   "execution_count": null,
   "metadata": {},
   "outputs": [],
   "source": [
    "#list(iris_data_dict.items())[0:5]\n",
    "iris_data_dict"
   ]
  },
  {
   "cell_type": "markdown",
   "metadata": {},
   "source": [
    "### Writing Data\n",
    "\n",
    "Let's go ahead and write the modified data. We can use the same csv module."
   ]
  },
  {
   "cell_type": "code",
   "execution_count": null,
   "metadata": {},
   "outputs": [],
   "source": [
    "# For the iris_data list, which is a list of lists\n",
    "with open('bezdekIiris_modified.data', 'w', newline='') as outfile:\n",
    "    writer = csv.writer(outfile, delimiter='\\t')\n",
    "\n",
    "    for row in iris_data:\n",
    "        writer.writerow(row)"
   ]
  },
  {
   "cell_type": "code",
   "execution_count": null,
   "metadata": {},
   "outputs": [],
   "source": [
    "# For the iris_data_dict\n",
    "with open('bezdekIiris_modified_dict.data', 'w', newline='') as outfile:\n",
    "    writer = csv.writer(outfile, delimiter='\\t')\n",
    "\n",
    "    # If you want to add header\n",
    "    #header = ['sample'] # first column\n",
    "    #for key in list(iris_data_dict.values())[0]:\n",
    "    #    header.append(key)\n",
    "    #writer.writerow(header)\n",
    "\n",
    "    # write the data\n",
    "    for key, sub_dict in iris_data_dict.items():\n",
    "        row = [key] + list(sub_dict.values())\n",
    "        writer.writerow(row)"
   ]
  },
  {
   "cell_type": "markdown",
   "metadata": {},
   "source": [
    "# 9. Very brief intro to data analysis and plotting"
   ]
  },
  {
   "cell_type": "markdown",
   "metadata": {},
   "source": [
    "We can use the python statistics module to get some basic summary statistics of the Iris dataset:\n",
    "\n",
    "https://docs.python.org/3/library/statistics.html\n"
   ]
  },
  {
   "cell_type": "code",
   "execution_count": null,
   "metadata": {},
   "outputs": [],
   "source": [
    "# We can use our existing iris_data_dict variable\n",
    "iris_data_dict"
   ]
  },
  {
   "cell_type": "code",
   "execution_count": null,
   "metadata": {},
   "outputs": [],
   "source": [
    "# first let's create a list of the different variables/features from the iris_data_dict\n",
    "sepal_lengths = []\n",
    "for sample in iris_data_dict.values():\n",
    "    sepal_lengths.append(float(sample['sepal length in cm']))"
   ]
  },
  {
   "cell_type": "code",
   "execution_count": null,
   "metadata": {},
   "outputs": [],
   "source": [
    "sepal_lengths"
   ]
  },
  {
   "cell_type": "code",
   "execution_count": null,
   "metadata": {},
   "outputs": [],
   "source": [
    "# Another way to do this in Python is on one line like this:\n",
    "sepal_lengths = [float(sample['sepal length in cm']) for sample in iris_data_dict.values()]\n",
    "sepal_widths = [float(sample['sepal width in cm']) for sample in iris_data_dict.values()]\n",
    "petal_lengths = [float(sample['petal length in cm']) for sample in iris_data_dict.values()]\n",
    "petal_widths = [float(sample['petal width in cm']) for sample in iris_data_dict.values()]"
   ]
  },
  {
   "cell_type": "code",
   "execution_count": null,
   "metadata": {},
   "outputs": [],
   "source": [
    "# Now import the statistics library\n",
    "import statistics\n",
    "\n",
    "# Create function to print summary statistics\n",
    "def summary_stats(data):\n",
    "    print(\"Mean: \" + str(round(statistics.mean(data), 2)))\n",
    "    print(\"Median: \" + str(round(statistics.median(data), 2)))\n",
    "    print(\"Min: \" + str(round(min(data), 2)))\n",
    "    print(\"Max: \" + str(round(max(data), 2)))\n",
    "    print()\n",
    "\n",
    "# Print summary statistics for each feature\n",
    "\n",
    "print(\"Sepal Length:\")\n",
    "summary_stats(sepal_lengths)\n",
    "\n",
    "print(\"Sepal Width:\")\n",
    "summary_stats(sepal_widths)\n",
    "\n",
    "print(\"Petal Length:\")\n",
    "summary_stats(petal_lengths)\n",
    "\n",
    "print(\"Petal Width:\")\n",
    "summary_stats(petal_widths)"
   ]
  },
  {
   "cell_type": "markdown",
   "metadata": {},
   "source": [
    "We can use the Matplotlib library to create some basic visualizations of the data:\n",
    "\n",
    "https://matplotlib.org/\n",
    "\n",
    "https://matplotlib.org/stable/tutorials/index"
   ]
  },
  {
   "cell_type": "code",
   "execution_count": null,
   "metadata": {},
   "outputs": [],
   "source": [
    "import matplotlib.pyplot as plt\n",
    "\n",
    "# Scatter Plot - Sepal Width vs Sepal Length\n",
    "# https://matplotlib.org/stable/api/_as_gen/matplotlib.pyplot.scatter.html\n",
    "plt.figure(figsize=(6, 4))\n",
    "plt.scatter(sepal_lengths, sepal_widths)\n",
    "plt.xlabel('Sepal Length (cm)')\n",
    "plt.ylabel('Sepal Width (cm)')\n",
    "plt.show()"
   ]
  },
  {
   "cell_type": "code",
   "execution_count": null,
   "metadata": {},
   "outputs": [],
   "source": [
    "# We can get a bit fancier\n",
    "# Define a color for each class\n",
    "\n",
    "colors = {'Iris-setosa': 'indigo', 'Iris-versicolor': 'orange', 'Iris-virginica': 'teal'}\n",
    "class_names = [sample['class'] for sample in iris_data_dict.values()]\n",
    "#print(class_names)"
   ]
  },
  {
   "cell_type": "code",
   "execution_count": null,
   "metadata": {},
   "outputs": [],
   "source": [
    "class_colors = [colors[class_name] for class_name in class_names]\n",
    "#print(class_colors)"
   ]
  },
  {
   "cell_type": "code",
   "execution_count": null,
   "metadata": {},
   "outputs": [],
   "source": [
    "# Create Scatter Plot with class colors - Sepal Length vs Sepal Width\n",
    "plt.figure(figsize=(6, 4))\n",
    "plt.scatter(sepal_lengths, sepal_widths, c=class_colors)\n",
    "plt.xlabel('Sepal Length (cm)')\n",
    "plt.ylabel('Sepal Width (cm)')\n",
    "plt.show()"
   ]
  },
  {
   "cell_type": "code",
   "execution_count": null,
   "metadata": {},
   "outputs": [],
   "source": [
    "# Add a legend (key) for the classes\n",
    "# Scatter Plot - Sepal Length vs Sepal Width\n",
    "plt.figure(figsize=(6, 4))\n",
    "plt.scatter(sepal_lengths, sepal_widths, c=class_colors)\n",
    "plt.xlabel('Sepal Length (cm)')\n",
    "plt.ylabel('Sepal Width (cm)')\n",
    "\n",
    "for class_label, color in colors.items():\n",
    "    plt.scatter([], [], color=color, label=class_label)\n",
    "plt.legend()\n",
    "plt.show()"
   ]
  },
  {
   "cell_type": "code",
   "execution_count": null,
   "metadata": {},
   "outputs": [],
   "source": [
    "# Try another one!\n",
    "# Scatter Plot - Petal Length vs Petal Width\n",
    "plt.figure(figsize=(6, 4))\n",
    "plt.scatter(petal_lengths, petal_widths, c=class_colors)\n",
    "plt.xlabel('Petal Length (cm)')\n",
    "plt.ylabel('Petal Width (cm)')\n",
    "plt.show()"
   ]
  },
  {
   "cell_type": "code",
   "execution_count": null,
   "metadata": {},
   "outputs": [],
   "source": [
    "# Plot all combinations\n",
    "# self-study!\n",
    "# Adapted from ChatGPT 4o\n",
    "\n",
    "import matplotlib.pyplot as plt\n",
    "\n",
    "# Define feature pairs for scatter plots\n",
    "feature_pairs = [\n",
    "    ('Sepal Length', sepal_lengths, 'Sepal Width', sepal_widths),\n",
    "    ('Sepal Length', sepal_lengths, 'Petal Length', petal_lengths),\n",
    "    ('Sepal Length', sepal_lengths, 'Petal Width', petal_widths),\n",
    "    ('Sepal Width', sepal_widths, 'Petal Length', petal_lengths),\n",
    "    ('Sepal Width', sepal_widths, 'Petal Width', petal_widths),\n",
    "    ('Petal Length', petal_lengths, 'Petal Width', petal_widths)\n",
    "]\n",
    "\n",
    "# Set up a 2x3 grid for subplots\n",
    "fig, axes = plt.subplots(2, 3, figsize=(12, 6))  # Adjust the figsize as needed\n",
    "\n",
    "# Flatten axes for easy iteration\n",
    "axes = axes.flatten()\n",
    "\n",
    "# Plot each feature pair in the grid\n",
    "for i, (x_label, x_data, y_label, y_data) in enumerate(feature_pairs):\n",
    "    axes[i].scatter(x_data, y_data, c=class_colors)\n",
    "    axes[i].set_xlabel(f'{x_label} (cm)')\n",
    "    axes[i].set_ylabel(f'{y_label} (cm)')\n",
    "\n",
    "# Add legend at the bottom\n",
    "handles = [\n",
    "    plt.Line2D([0], [0], marker='o', color='w', markerfacecolor=color, markersize=10, label=cls)\n",
    "    for cls, color in colors.items()\n",
    "]\n",
    "fig.legend(handles=handles, loc='lower center', ncol=3, bbox_to_anchor=(0.5, -0.05))\n",
    "\n",
    "# Adjust layout to make space for the legend\n",
    "plt.tight_layout()\n",
    "plt.subplots_adjust(bottom=0.1)\n",
    "plt.show()"
   ]
  },
  {
   "cell_type": "code",
   "execution_count": null,
   "metadata": {},
   "outputs": [],
   "source": []
  }
 ],
 "metadata": {
  "kernelspec": {
   "display_name": "gen_workshops",
   "language": "python",
   "name": "python3"
  },
  "language_info": {
   "codemirror_mode": {
    "name": "ipython",
    "version": 3
   },
   "file_extension": ".py",
   "mimetype": "text/x-python",
   "name": "python",
   "nbconvert_exporter": "python",
   "pygments_lexer": "ipython3",
   "version": "3.13.0"
  }
 },
 "nbformat": 4,
 "nbformat_minor": 2
}
