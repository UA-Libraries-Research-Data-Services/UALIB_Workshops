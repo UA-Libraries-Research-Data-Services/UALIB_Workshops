{
 "cells": [
  {
   "cell_type": "markdown",
   "metadata": {},
   "source": [
    "# Introduction to Network Analysis with Python and NetworkX\n",
    "\n",
    "**Avery Fernandez and Vincent Scalfani**\n",
    "\n",
    "UA Libraries, Data Services\n",
    "\n",
    "February 15, 2023\n",
    "\n",
    "Code in this notebook is MIT licensed, you can find a copy of the license here: https://github.com/ualibweb/UALIB_Workshops\n",
    "\n",
    "Bibliographic data is credited to NCBI and NLM. Please see the NCBI Website and Data Usage Policies and Disclaimers for more information regarding the data: https://www.ncbi.nlm.nih.gov/home/about/policies/\n",
    "\n",
    "NetworkX Docs: https://networkx.org/documentation/stable/"
   ]
  },
  {
   "cell_type": "markdown",
   "metadata": {},
   "source": [
    "## Installing Libraries"
   ]
  },
  {
   "cell_type": "markdown",
   "metadata": {},
   "source": [
    "We will need to install a few libraries. You can use conda or pip. Here is a conda recipe:"
   ]
  },
  {
   "cell_type": "markdown",
   "metadata": {},
   "source": [
    "```\n",
    "conda create --name my-env\n",
    "conda activate my-env\n",
    "conda install -c conda-forge jupyterlab numpy matplotlib pandas networkx\n",
    "```\n",
    "or through pip:\n",
    "\n",
    "``` \n",
    "pip install numpy matplotlib pandas networkx\n",
    "```"
   ]
  },
  {
   "cell_type": "markdown",
   "metadata": {},
   "source": [
    "## A Basic Network Example"
   ]
  },
  {
   "cell_type": "code",
   "execution_count": null,
   "metadata": {},
   "outputs": [],
   "source": [
    "colabs = {\n",
    "    ('Avery', 'Krishav'): 1,\n",
    "    ('Avery', 'Cyrus'): 1,\n",
    "    ('Avery', 'Jay'): 1,\n",
    "    ('Avery', 'Michael'): 1,\n",
    "    ('Adam', 'Avery'): 1,\n",
    "    ('Adam', 'Cyrus'): 1,\n",
    "    ('Jay', 'Michael'): 1\n",
    "}"
   ]
  },
  {
   "cell_type": "code",
   "execution_count": null,
   "metadata": {},
   "outputs": [],
   "source": [
    "import networkx as nx\n",
    "G = nx.Graph()\n",
    "\n",
    "for key, value in colabs.items():\n",
    "    G.add_edge(key[0], key[1], weight=value)"
   ]
  },
  {
   "cell_type": "code",
   "execution_count": null,
   "metadata": {},
   "outputs": [],
   "source": [
    "name_labels = {}\n",
    "for nodes in G.nodes(data=True):\n",
    "    name_labels[nodes[0]] = str(nodes[0])"
   ]
  },
  {
   "cell_type": "code",
   "execution_count": null,
   "metadata": {},
   "outputs": [],
   "source": [
    "import matplotlib.pyplot as plt\n",
    "\n",
    "fig, ax = plt.subplots()\n",
    "pos = nx.spring_layout(G, seed=5)\n",
    "nx.draw_networkx_nodes(G, pos, ax=ax, node_size=3000, node_color=\"plum\")\n",
    "nx.draw_networkx_labels(G, pos, name_labels, ax=ax)\n",
    "nx.draw_networkx_edges(G, pos, ax=ax)\n",
    "\n",
    "\n",
    "plt.axis(\"off\")\n",
    "plt.tight_layout()\n",
    "plt.show()"
   ]
  },
  {
   "cell_type": "markdown",
   "metadata": {},
   "source": [
    "## Create a Co-Author Network"
   ]
  },
  {
   "cell_type": "markdown",
   "metadata": {},
   "source": [
    "### Import the author data"
   ]
  },
  {
   "cell_type": "code",
   "execution_count": null,
   "metadata": {},
   "outputs": [],
   "source": [
    "# take a look at the data first\n",
    "!head UA_pubmed_authors.tsv"
   ]
  },
  {
   "cell_type": "code",
   "execution_count": null,
   "metadata": {},
   "outputs": [],
   "source": [
    "# import the data into a list variable where each row is a string\n",
    "data = []\n",
    "with open(\"UA_pubmed_authors.tsv\", \"r\") as fileIn:\n",
    "    for line in fileIn:\n",
    "        data.append(line)"
   ]
  },
  {
   "cell_type": "code",
   "execution_count": null,
   "metadata": {},
   "outputs": [],
   "source": [
    "data[0:10]"
   ]
  },
  {
   "cell_type": "code",
   "execution_count": null,
   "metadata": {},
   "outputs": [],
   "source": [
    "print(len(data))"
   ]
  },
  {
   "cell_type": "markdown",
   "metadata": {},
   "source": [
    "### Data Preparation"
   ]
  },
  {
   "cell_type": "code",
   "execution_count": null,
   "metadata": {},
   "outputs": [],
   "source": [
    "# Filter the data such that we only keep article rows\n",
    "# with less than six authors (for simplicity)\n",
    "\n",
    "clean_data = []\n",
    "for line in data:\n",
    "    authors = line.split(\"\\t\")\n",
    "    if len(authors) > 10: # 5 authors\n",
    "        continue\n",
    "    clean_data.append(line.split(\"\\t\"))"
   ]
  },
  {
   "cell_type": "code",
   "execution_count": null,
   "metadata": {},
   "outputs": [],
   "source": [
    "clean_data[0:10]"
   ]
  },
  {
   "cell_type": "code",
   "execution_count": null,
   "metadata": {},
   "outputs": [],
   "source": [
    "print(len(clean_data))"
   ]
  },
  {
   "cell_type": "code",
   "execution_count": null,
   "metadata": {},
   "outputs": [],
   "source": [
    "# do some cleanup to get a list of author collaborations into a list\n",
    "authors = []\n",
    "for line in clean_data:\n",
    "    length = len(line[1:])\n",
    "    article_authors = []\n",
    "    for i in range(0,length,2):\n",
    "        author = (f\"{line[i+1]}, {line[i+2]}\").rstrip()\n",
    "        article_authors.append(author)\n",
    "    authors.append(article_authors)   "
   ]
  },
  {
   "cell_type": "code",
   "execution_count": null,
   "metadata": {
    "tags": []
   },
   "outputs": [],
   "source": [
    "print(authors[0:10])"
   ]
  },
  {
   "cell_type": "code",
   "execution_count": null,
   "metadata": {},
   "outputs": [],
   "source": [
    "# compute combination pairs of authors\n",
    "from itertools import combinations\n",
    "author_pairs = []\n",
    "for article in authors:\n",
    "    subsets = list(combinations(article, 2))\n",
    "    author_pairs+=subsets"
   ]
  },
  {
   "cell_type": "code",
   "execution_count": null,
   "metadata": {},
   "outputs": [],
   "source": [
    "author_pairs[0:10]"
   ]
  },
  {
   "cell_type": "code",
   "execution_count": null,
   "metadata": {},
   "outputs": [],
   "source": [
    "print(len(author_pairs))"
   ]
  },
  {
   "cell_type": "code",
   "execution_count": null,
   "metadata": {},
   "outputs": [],
   "source": [
    "# sort the author pairs, so that they appear in the same\n",
    "# order each time\n",
    "sorted_pairs = []\n",
    "for i in author_pairs:\n",
    "    author_list = list(i)\n",
    "    author_list.sort()\n",
    "    sorted_pairs.append(tuple(author_list))"
   ]
  },
  {
   "cell_type": "code",
   "execution_count": null,
   "metadata": {},
   "outputs": [],
   "source": [
    "sorted_pairs[0:10]"
   ]
  },
  {
   "cell_type": "code",
   "execution_count": null,
   "metadata": {},
   "outputs": [],
   "source": [
    "len(set(sorted_pairs))"
   ]
  },
  {
   "cell_type": "code",
   "execution_count": null,
   "metadata": {},
   "outputs": [],
   "source": [
    "# count occurances\n",
    "counted_pairs = {}\n",
    "for pair in sorted_pairs:\n",
    "    if pair in counted_pairs.keys():\n",
    "        counted_pairs[pair] += 1\n",
    "    else:\n",
    "        counted_pairs[pair] = 1"
   ]
  },
  {
   "cell_type": "code",
   "execution_count": null,
   "metadata": {},
   "outputs": [],
   "source": [
    "list(counted_pairs.items())[0:10]"
   ]
  },
  {
   "cell_type": "code",
   "execution_count": null,
   "metadata": {},
   "outputs": [],
   "source": [
    "# sort the pairs by highest frequency\n",
    "sorted_pairs = dict(sorted(counted_pairs.items(), key=lambda x:x[1], reverse=True))\n",
    "list(sorted_pairs.items())[0:10]"
   ]
  },
  {
   "cell_type": "code",
   "execution_count": null,
   "metadata": {},
   "outputs": [],
   "source": [
    "# filter for collaborations > 3\n",
    "filtered_pairs = {}\n",
    "for key, value in counted_pairs.items():\n",
    "    if value > 3:\n",
    "        filtered_pairs[key] = value"
   ]
  },
  {
   "cell_type": "code",
   "execution_count": null,
   "metadata": {},
   "outputs": [],
   "source": [
    "len(filtered_pairs) # edges of graph"
   ]
  },
  {
   "cell_type": "code",
   "execution_count": null,
   "metadata": {},
   "outputs": [],
   "source": [
    "nodes = []\n",
    "for key in filtered_pairs.keys():\n",
    "    author1, author2 = key\n",
    "    nodes.append(author1)\n",
    "    nodes.append(author2)\n",
    "nodes = list(set(nodes))"
   ]
  },
  {
   "cell_type": "code",
   "execution_count": null,
   "metadata": {},
   "outputs": [],
   "source": [
    "len(nodes)"
   ]
  },
  {
   "cell_type": "code",
   "execution_count": null,
   "metadata": {},
   "outputs": [],
   "source": [
    "nodes[0:10]"
   ]
  },
  {
   "cell_type": "markdown",
   "metadata": {},
   "source": [
    "### Plotting the Network"
   ]
  },
  {
   "cell_type": "code",
   "execution_count": null,
   "metadata": {},
   "outputs": [],
   "source": [
    "import networkx as nx"
   ]
  },
  {
   "cell_type": "code",
   "execution_count": null,
   "metadata": {},
   "outputs": [],
   "source": [
    "# create a graph\n",
    "# then add edges (nodes are automatically added)\n",
    "\n",
    "G = nx.Graph()\n",
    "for key, value in filtered_pairs.items():\n",
    "    G.add_edge(key[0], key[1], weight=value)"
   ]
  },
  {
   "cell_type": "code",
   "execution_count": null,
   "metadata": {},
   "outputs": [],
   "source": [
    "nx.draw_spring(G, edgecolors=\"black\", node_size=40)"
   ]
  },
  {
   "cell_type": "code",
   "execution_count": null,
   "metadata": {},
   "outputs": [],
   "source": [
    "# create a list of the individual connected graphs\n",
    "connected_graphs = [G.subgraph(c).copy() for c in nx.connected_components(G)]"
   ]
  },
  {
   "cell_type": "code",
   "execution_count": null,
   "metadata": {},
   "outputs": [],
   "source": [
    "len(connected_graphs)"
   ]
  },
  {
   "cell_type": "code",
   "execution_count": null,
   "metadata": {},
   "outputs": [],
   "source": [
    "# get number of nodes in each connected graph\n",
    "graph_sizes = []\n",
    "for idx, i in enumerate(connected_graphs):\n",
    "    size = nx.number_of_nodes(i)\n",
    "    graph_sizes.append((idx, size))   "
   ]
  },
  {
   "cell_type": "code",
   "execution_count": null,
   "metadata": {},
   "outputs": [],
   "source": [
    "# We are sorting the graph_sizes data using the second value as its sorting number\n",
    "sorted_graphs = sorted(graph_sizes, key=lambda x:x[1], reverse=True)"
   ]
  },
  {
   "cell_type": "code",
   "execution_count": null,
   "metadata": {},
   "outputs": [],
   "source": [
    "# idx, number of ndoes\n",
    "sorted_graphs[:5]"
   ]
  },
  {
   "cell_type": "code",
   "execution_count": null,
   "metadata": {},
   "outputs": [],
   "source": [
    "nx.draw_spring(connected_graphs[48]) #idx 48"
   ]
  },
  {
   "cell_type": "code",
   "execution_count": null,
   "metadata": {},
   "outputs": [],
   "source": [
    "nx.draw_spring(connected_graphs[22]) # idx 22"
   ]
  },
  {
   "cell_type": "code",
   "execution_count": null,
   "metadata": {},
   "outputs": [],
   "source": [
    "import matplotlib.pyplot as plt\n",
    "fig, ax = plt.subplots()\n",
    "\n",
    "pos = nx.spring_layout(connected_graphs[22], seed=1)\n",
    "nx.draw_networkx_nodes(connected_graphs[22], pos, ax=ax, edgecolors=\"black\", node_size=300)\n",
    "plt.axis(\"off\")\n",
    "plt.tight_layout()\n",
    "plt.show()"
   ]
  },
  {
   "cell_type": "code",
   "execution_count": null,
   "metadata": {},
   "outputs": [],
   "source": [
    "table_data = []\n",
    "custom_labels = {}\n",
    "for idx, nodes in enumerate(connected_graphs[22].nodes(data=True)):\n",
    "    custom_labels[nodes[0]] = str(idx)\n",
    "    table_data.append([idx, nodes[0]])"
   ]
  },
  {
   "cell_type": "code",
   "execution_count": null,
   "metadata": {},
   "outputs": [],
   "source": [
    "import matplotlib.pyplot as plt\n",
    "fig, ax = plt.subplots()\n",
    "\n",
    "pos = nx.spring_layout(connected_graphs[22], seed=1)\n",
    "nx.draw_networkx_nodes(connected_graphs[22], pos, ax=ax, edgecolors=\"black\", node_size=300)\n",
    "nx.draw_networkx_labels(connected_graphs[22], pos, custom_labels, ax=ax)\n",
    "\n",
    "plt.axis(\"off\")\n",
    "plt.tight_layout()\n",
    "plt.show()"
   ]
  },
  {
   "cell_type": "code",
   "execution_count": null,
   "metadata": {},
   "outputs": [],
   "source": [
    "# view the node data in a dataframe\n",
    "import pandas as pd\n",
    "columns = (\"Node ID\", \"Author\")\n",
    "df = pd.DataFrame(table_data, columns=columns)\n",
    "df"
   ]
  },
  {
   "cell_type": "code",
   "execution_count": null,
   "metadata": {},
   "outputs": [],
   "source": [
    "# Now add edges\n",
    "import matplotlib.pyplot as plt\n",
    "fig, ax = plt.subplots()\n",
    "\n",
    "pos = nx.spring_layout(connected_graphs[22], seed=1)\n",
    "nx.draw_networkx_nodes(connected_graphs[22], pos, ax=ax, edgecolors=\"black\", node_size=300)\n",
    "nx.draw_networkx_labels(connected_graphs[22], pos, custom_labels, ax=ax)\n",
    "nx.draw_networkx_edges(connected_graphs[22], pos, ax=ax)\n",
    "\n",
    "plt.axis(\"off\")\n",
    "plt.tight_layout()\n",
    "plt.show()"
   ]
  },
  {
   "cell_type": "code",
   "execution_count": null,
   "metadata": {},
   "outputs": [],
   "source": [
    "# list out edge data\n",
    "connected_graphs[22].edges(data=True)"
   ]
  },
  {
   "cell_type": "code",
   "execution_count": null,
   "metadata": {},
   "outputs": [],
   "source": [
    "# Let's add in the weights as edge line thickness\n",
    "# Adapted from: https://networkx.org/documentation/stable/auto_examples/drawing/plot_weighted_graph.html?highlight=weighted_graph\n",
    "\n",
    "thick = [(u, v) for (u, v, d) in connected_graphs[22].edges(data=True) if d[\"weight\"] >= 10]\n",
    "medium = [(u, v) for (u, v, d) in connected_graphs[22].edges(data=True) if 5 < d[\"weight\"] < 10]\n",
    "thin = [(u, v) for (u, v, d) in connected_graphs[22].edges(data=True) if d[\"weight\"] <= 5]"
   ]
  },
  {
   "cell_type": "code",
   "execution_count": null,
   "metadata": {},
   "outputs": [],
   "source": [
    "import matplotlib.pyplot as plt\n",
    "fig, ax = plt.subplots()\n",
    "\n",
    "pos = nx.spring_layout(connected_graphs[22], seed=1)\n",
    "nx.draw_networkx_nodes(connected_graphs[22], pos, ax=ax, edgecolors=\"black\", node_size=300, node_color=\"white\")\n",
    "nx.draw_networkx_labels(connected_graphs[22], pos, custom_labels, ax=ax, font_size=8)\n",
    "nx.draw_networkx_edges(connected_graphs[22], pos, ax=ax)\n",
    "nx.draw_networkx_edges(connected_graphs[22], pos, ax=ax, edgelist=thick, width=4, edge_color=\"indigo\")\n",
    "nx.draw_networkx_edges(connected_graphs[22], pos, ax=ax, edgelist=medium, width=3, edge_color=\"mediumpurple\")\n",
    "nx.draw_networkx_edges(connected_graphs[22], pos, ax=ax, edgelist=thin, width=2, edge_color=\"thistle\")\n",
    "\n",
    "plt.axis(\"off\")\n",
    "plt.tight_layout()\n",
    "plt.show()"
   ]
  },
  {
   "cell_type": "code",
   "execution_count": null,
   "metadata": {},
   "outputs": [],
   "source": [
    "# add some additional features to plot such as node size = # of collaborators\n",
    "\n",
    "node_sizes = {}\n",
    "for nodes in connected_graphs[22].edges(data=True):\n",
    "    author1,author2,size = nodes\n",
    "    if author1 in node_sizes.keys():\n",
    "        node_sizes[author1] += size[\"weight\"]\n",
    "    else:\n",
    "        node_sizes[author1] = size[\"weight\"]\n",
    "    if author2 in node_sizes.keys():\n",
    "        node_sizes[author2] += size[\"weight\"]\n",
    "    else:\n",
    "        node_sizes[author2] = size[\"weight\"]\n",
    "node_sizes = dict(node_sizes.items())"
   ]
  },
  {
   "cell_type": "code",
   "execution_count": null,
   "metadata": {},
   "outputs": [],
   "source": [
    "custom_sizes = []\n",
    "for nodes in connected_graphs[22].nodes:\n",
    "    custom_sizes.append(node_sizes[nodes] * 20)"
   ]
  },
  {
   "cell_type": "code",
   "execution_count": null,
   "metadata": {},
   "outputs": [],
   "source": [
    "import matplotlib.pyplot as plt\n",
    "fig, ax = plt.subplots()\n",
    "\n",
    "pos = nx.spring_layout(connected_graphs[22], seed=1)\n",
    "nx.draw_networkx_nodes(connected_graphs[22], pos, ax=ax, edgecolors=\"black\", node_size=custom_sizes, node_color=\"white\")\n",
    "nx.draw_networkx_labels(connected_graphs[22], pos, custom_labels, ax=ax, font_size=8)\n",
    "nx.draw_networkx_edges(connected_graphs[22], pos, ax=ax)\n",
    "nx.draw_networkx_edges(connected_graphs[22], pos, ax=ax, edgelist=thick, width=4, edge_color=\"indigo\")\n",
    "nx.draw_networkx_edges(connected_graphs[22], pos, ax=ax, edgelist=medium, width=3, edge_color=\"mediumpurple\")\n",
    "nx.draw_networkx_edges(connected_graphs[22], pos, ax=ax, edgelist=thin, width=2, edge_color=\"thistle\")\n",
    "\n",
    "plt.axis(\"off\")\n",
    "plt.tight_layout()\n",
    "plt.show()"
   ]
  },
  {
   "cell_type": "code",
   "execution_count": null,
   "metadata": {},
   "outputs": [],
   "source": [
    "new_table = []\n",
    "for line in table_data:\n",
    "    idx, author = line\n",
    "    new_table.append([idx, author, node_sizes[author]])\n",
    "columns = (\"Node ID\", \"Author\", \"Collaborations\")\n",
    "df = pd.DataFrame(new_table, columns=columns)\n",
    "df"
   ]
  },
  {
   "cell_type": "markdown",
   "metadata": {},
   "source": [
    "## Notes"
   ]
  },
  {
   "cell_type": "markdown",
   "metadata": {},
   "source": [
    "NetworkX has many built in Network Analysis Functions:\n",
    "\n",
    "https://networkx.org/documentation/stable/reference/index.html\n",
    "\n",
    "See here for some of our examples:\n",
    "https://github.com/vfscalfani/CSN_tutorial/blob/main/CSN_Jupyter_Notebooks/CSN_glucocorticoid_MCS_2.ipynb"
   ]
  },
  {
   "cell_type": "code",
   "execution_count": null,
   "metadata": {},
   "outputs": [],
   "source": []
  }
 ],
 "metadata": {
  "kernelspec": {
   "display_name": "Python 3 (ipykernel)",
   "language": "python",
   "name": "python3"
  },
  "language_info": {
   "codemirror_mode": {
    "name": "ipython",
    "version": 3
   },
   "file_extension": ".py",
   "mimetype": "text/x-python",
   "name": "python",
   "nbconvert_exporter": "python",
   "pygments_lexer": "ipython3",
   "version": "3.10.6"
  },
  "vscode": {
   "interpreter": {
    "hash": "20503b97ed80c9e9db3f7b0dd2d260840fa40e15a8c80d40ec251c7c2e70c6e9"
   }
  }
 },
 "nbformat": 4,
 "nbformat_minor": 4
}
